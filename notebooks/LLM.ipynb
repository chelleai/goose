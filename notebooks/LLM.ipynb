{
 "cells": [
  {
   "cell_type": "markdown",
   "id": "06710c98-c27d-400f-88e3-48b2e6dcbbdb",
   "metadata": {},
   "source": [
    "- Everything is structured output\n",
    "- Key idea is to facilitate HCI by the Agent iterating on the target artifact as well as responding to the user\n",
    "- User can always message using text or media\n",
    "- Producing each part of the target artifact is a conversation focusing on different inputs"
   ]
  },
  {
   "cell_type": "code",
   "execution_count": null,
   "id": "1217a52a-fdc1-4602-87e6-4c16fef7a1d1",
   "metadata": {},
   "outputs": [],
   "source": [
    "class CourseMakerParameters(BaseModel):\n",
    "    textbook: Media[ContentType.PDF]\n",
    "    objective: Text\n",
    "\n",
    "class CourseMakerTasks(StrEnum):\n",
    "    LEARNING_OBJECTIVES = \"learning_objectives\"\n",
    "    TITLE = \"title\"\n",
    "    SYNOPSIS = \"synopsis\"\n",
    "\n",
    "\n",
    "with Flow(name=\"course_maker\", parameter_model=CourseMakerParameters, tasks=CourseMakerTasks) as flow:\n",
    "    learning_objectives = GenerateLearningObjectives(name=CourseMakerTasks.LEARNING_OBJECTIVES, max_objectives=10)(\n",
    "        source_material=flow.parameters.textbook, course_objective=flow.parameters.objective\n",
    "    )\n",
    "    title = GenerateTitle(name=CourseMakerTasks.TITLE, max_words=5)(learning_objectives=learning_objectives)\n",
    "    synopsis = GenerateSynopsis(name=CourseMakerTasks.SYNOPSIS, max_words=50)(learning_objectives=learning_objectives, title=title)\n",
    "\n",
    "\n",
    "with open(\"somatosensory.pdf\", \"rb\") as f:\n",
    "    pdf = f.read()\n",
    "\n",
    "flow.compile(\n",
    "    arguments=CourseMakerParameters(\n",
    "        textbook=Media(pdf),\n",
    "        objective=Text(\"Learn about the somatosensory system\")\n",
    "    ),\n",
    "    unlocked=[CourseMakerTasks.TITLE, CourseMakerTasks.SYNOPSIS],\n",
    ")\n",
    "await flow.run()"
   ]
  },
  {
   "cell_type": "code",
   "execution_count": null,
   "id": "70ca6391-6283-410b-b4d1-fc279a7595ad",
   "metadata": {},
   "outputs": [],
   "source": [
    "await flow.run_selected(tasks=[title, synopsis])"
   ]
  },
  {
   "cell_type": "code",
   "execution_count": null,
   "id": "77deb15f-c929-48f3-94de-a5a8ba33c1d7",
   "metadata": {},
   "outputs": [],
   "source": [
    "class Flow[ParametersT: BaseModel, TasksT: ]"
   ]
  }
 ],
 "metadata": {
  "kernelspec": {
   "display_name": "Chelle Library",
   "language": "python",
   "name": "library"
  },
  "language_info": {
   "codemirror_mode": {
    "name": "ipython",
    "version": 3
   },
   "file_extension": ".py",
   "mimetype": "text/x-python",
   "name": "python",
   "nbconvert_exporter": "python",
   "pygments_lexer": "ipython3",
   "version": "3.12.0"
  }
 },
 "nbformat": 4,
 "nbformat_minor": 5
}
